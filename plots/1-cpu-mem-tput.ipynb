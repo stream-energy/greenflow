{
 "cells": [
  {
   "cell_type": "code",
   "execution_count": 1,
   "metadata": {},
   "outputs": [
    {
     "name": "stderr",
     "output_type": "stream",
     "text": [
      "[WARNING]: failed to patch stdout/stderr for fork-safety: 'OutStream' object\n",
      "has no attribute 'buffer'\n",
      "[WARNING]: failed to reconfigure stdout/stderr with custom encoding error\n",
      "handler: 'OutStream' object has no attribute 'reconfigure'\n"
     ]
    },
    {
     "data": {
      "text/plain": [
       "'2025-02-06T01:04:10.789294+01:00'"
      ]
     },
     "execution_count": 1,
     "metadata": {},
     "output_type": "execute_result"
    }
   ],
   "source": [
    "# Add DEVENV_PATH to the path so that we can import the modules\n",
    "import sys\n",
    "from os import getenv\n",
    "\n",
    "import pendulum\n",
    "sys.path.append(getenv(\"DEVENV_ROOT\"))\n",
    "\n",
    "import pandas as pd\n",
    "pd.options.mode.chained_assignment = None  # default='warn'\n",
    "import matplotlib.pyplot as plt\n",
    "import seaborn as sns\n",
    "\n",
    "from entrypoint import load_gin\n",
    "load_gin(\"ingest-kafka\", test=False)\n",
    "import greenflow.analysis as an\n",
    "from greenflow.utils import convert_to_mib\n",
    "\n",
    "cutoff_begin = \"2024-12-16T03:15:35.626996+01:00\"\n",
    "cutoff_end = \"2025-01-01T03:15:35.626996+01:00\"\n",
    "cutoff_end = pendulum.now().to_iso8601_string()\n",
    "\n",
    "load_gin(exp_name=\"ingest-kafka\", test=False)\n",
    "cutoff_end\n"
   ]
  },
  {
   "cell_type": "code",
   "execution_count": 2,
   "metadata": {},
   "outputs": [],
   "source": [
    "def plot_throughput_vs_memory(enriched_data: pd.DataFrame):\n",
    "    # Restack this to show memory impact \n",
    "    redpanda_df = enriched_data[enriched_data[\"exp_name\"] == \"ingest-redpanda\"]\n",
    "    kafka_df = enriched_data[enriched_data[\"exp_name\"] == \"ingest-kafka\"]\n",
    "\n",
    "    # Add a new column for memory in MiB\n",
    "    redpanda_df['broker_mem_mib'] = redpanda_df['broker_mem'].apply(convert_to_mib)\n",
    "    min_throughput = min(redpanda_df['throughput_MBps'].min(), kafka_df['throughput_MBps'].min())\n",
    "    min_throughput = 0\n",
    "    max_throughput = max(redpanda_df['throughput_MBps'].max(), kafka_df['throughput_MBps'].max())\n",
    "\n",
    "    kafka_df['broker_mem_mib'] = kafka_df['broker_mem'].apply(convert_to_mib)\n",
    "    plt.figure(figsize=(15, 6))\n",
    "    plt.subplot(1, 2, 1)\n",
    "    sns.barplot(data=redpanda_df, x='broker_cpu', y='throughput_MBps', hue='broker_mem_mib')\n",
    "    # sns.pointplot(data=redpanda_df, x='broker_mem_mib', y='throughput_MBps', hue='broker_cpu')\n",
    "\n",
    "    plt.title('Redpanda')\n",
    "    plt.xlabel('Cores')\n",
    "    plt.ylabel('Throughput (MBps)')\n",
    "    plt.legend(title='Memory')\n",
    "    plt.ylim((min_throughput - 0.05 * min_throughput, max_throughput + 0.05 * max_throughput))\n",
    "    plt.grid(True)\n",
    "\n",
    "    plt.subplot(1, 2, 2)\n",
    "    # sns.scatterplot(data=kafka_df, x='broker_mem_mib', y='throughput_MBps', hue='broker_cpu', palette='viridis', alpha=0.7)\n",
    "    sns.barplot(data=kafka_df, x='broker_cpu', y='throughput_MBps', hue='broker_mem_mib')\n",
    "    plt.title('Kafka')\n",
    "    plt.xlabel('Cores')\n",
    "    plt.ylabel('Throughput (MBps)')\n",
    "    plt.legend(title='Memory')\n",
    "    plt.ylim((min_throughput - 0.05 * min_throughput, max_throughput + 0.05 * max_throughput))\n",
    "    plt.grid(True)\n",
    "    plt.show()\n"
   ]
  },
  {
   "cell_type": "code",
   "execution_count": 3,
   "metadata": {},
   "outputs": [
    {
     "ename": "KeyError",
     "evalue": "\"None of ['exp_id'] are in the columns\"",
     "output_type": "error",
     "traceback": [
      "\u001b[0;31m---------------------------------------------------------------------------\u001b[0m",
      "\u001b[0;31mKeyError\u001b[0m                                  Traceback (most recent call last)",
      "\u001b[0;32m/tmp/ipykernel_57563/2858269033.py\u001b[0m in \u001b[0;36m?\u001b[0;34m()\u001b[0m\n\u001b[0;32m----> 1\u001b[0;31m ovhnvme_1 = an.full_analytical_pipeline(\n\u001b[0m\u001b[1;32m      2\u001b[0m     \u001b[0mcutoff_begin\u001b[0m\u001b[0;34m=\u001b[0m\u001b[0mcutoff_begin\u001b[0m\u001b[0;34m,\u001b[0m\u001b[0;34m\u001b[0m\u001b[0;34m\u001b[0m\u001b[0m\n\u001b[1;32m      3\u001b[0m     \u001b[0mcutoff_end\u001b[0m\u001b[0;34m=\u001b[0m\u001b[0mcutoff_end\u001b[0m\u001b[0;34m,\u001b[0m\u001b[0;34m\u001b[0m\u001b[0;34m\u001b[0m\u001b[0m\n\u001b[1;32m      4\u001b[0m     \u001b[0mcluster\u001b[0m\u001b[0;34m=\u001b[0m\u001b[0;34m\"ovhnvme\"\u001b[0m\u001b[0;34m,\u001b[0m\u001b[0;34m\u001b[0m\u001b[0;34m\u001b[0m\u001b[0m\n",
      "\u001b[0;32m~/greenflow-ovh/greenflow/analysis/__init__.py\u001b[0m in \u001b[0;36m?\u001b[0;34m(cutoff_begin, cutoff_end, cluster, type, **kwargs)\u001b[0m\n\u001b[1;32m     80\u001b[0m     \u001b[0mcluster\u001b[0m\u001b[0;34m=\u001b[0m\u001b[0;32mNone\u001b[0m\u001b[0;34m,\u001b[0m\u001b[0;34m\u001b[0m\u001b[0;34m\u001b[0m\u001b[0m\n\u001b[1;32m     81\u001b[0m     \u001b[0mtype\u001b[0m\u001b[0;34m=\u001b[0m\u001b[0;32mNone\u001b[0m\u001b[0;34m,\u001b[0m\u001b[0;34m\u001b[0m\u001b[0;34m\u001b[0m\u001b[0m\n\u001b[1;32m     82\u001b[0m     \u001b[0;34m**\u001b[0m\u001b[0mkwargs\u001b[0m\u001b[0;34m,\u001b[0m\u001b[0;34m\u001b[0m\u001b[0;34m\u001b[0m\u001b[0m\n\u001b[1;32m     83\u001b[0m ):\n\u001b[0;32m---> 84\u001b[0;31m     return full_analytical_pipeline_nocache(\n\u001b[0m\u001b[1;32m     85\u001b[0m         \u001b[0mcutoff_begin\u001b[0m\u001b[0;34m=\u001b[0m\u001b[0mcutoff_begin\u001b[0m\u001b[0;34m,\u001b[0m\u001b[0;34m\u001b[0m\u001b[0;34m\u001b[0m\u001b[0m\n\u001b[1;32m     86\u001b[0m         \u001b[0mcutoff_end\u001b[0m\u001b[0;34m=\u001b[0m\u001b[0mcutoff_end\u001b[0m\u001b[0;34m,\u001b[0m\u001b[0;34m\u001b[0m\u001b[0;34m\u001b[0m\u001b[0m\n\u001b[1;32m     87\u001b[0m         \u001b[0mcluster\u001b[0m\u001b[0;34m=\u001b[0m\u001b[0mcluster\u001b[0m\u001b[0;34m,\u001b[0m\u001b[0;34m\u001b[0m\u001b[0;34m\u001b[0m\u001b[0m\n",
      "\u001b[0;32m~/greenflow-ovh/greenflow/analysis/__init__.py\u001b[0m in \u001b[0;36m?\u001b[0;34m(cutoff_begin, cutoff_end, cluster, type, **kwargs)\u001b[0m\n\u001b[1;32m     66\u001b[0m \u001b[0;34m\u001b[0m\u001b[0m\n\u001b[1;32m     67\u001b[0m         \u001b[0mlistExperiment\u001b[0m \u001b[0;34m=\u001b[0m \u001b[0;34m[\u001b[0m\u001b[0mExperiment\u001b[0m\u001b[0;34m.\u001b[0m\u001b[0mfrom_doc\u001b[0m\u001b[0;34m(\u001b[0m\u001b[0mexp\u001b[0m\u001b[0;34m)\u001b[0m \u001b[0;32mfor\u001b[0m \u001b[0mexp\u001b[0m \u001b[0;32min\u001b[0m \u001b[0mmatching_experiments\u001b[0m\u001b[0;34m]\u001b[0m\u001b[0;34m\u001b[0m\u001b[0;34m\u001b[0m\u001b[0m\n\u001b[1;32m     68\u001b[0m         \u001b[0mfiltered_experiments\u001b[0m \u001b[0;34m=\u001b[0m \u001b[0;34m[\u001b[0m\u001b[0mexp\u001b[0m\u001b[0;34m.\u001b[0m\u001b[0mto_dict\u001b[0m\u001b[0;34m(\u001b[0m\u001b[0;34m)\u001b[0m \u001b[0;32mfor\u001b[0m \u001b[0mexp\u001b[0m \u001b[0;32min\u001b[0m \u001b[0mlistExperiment\u001b[0m\u001b[0;34m]\u001b[0m\u001b[0;34m\u001b[0m\u001b[0;34m\u001b[0m\u001b[0m\n\u001b[1;32m     69\u001b[0m \u001b[0;34m\u001b[0m\u001b[0m\n\u001b[0;32m---> 70\u001b[0;31m         \u001b[0mdf\u001b[0m \u001b[0;34m=\u001b[0m \u001b[0mpd\u001b[0m\u001b[0;34m.\u001b[0m\u001b[0mDataFrame\u001b[0m\u001b[0;34m(\u001b[0m\u001b[0mfiltered_experiments\u001b[0m\u001b[0;34m)\u001b[0m\u001b[0;34m.\u001b[0m\u001b[0mset_index\u001b[0m\u001b[0;34m(\u001b[0m\u001b[0;34m\"exp_id\"\u001b[0m\u001b[0;34m)\u001b[0m\u001b[0;34m\u001b[0m\u001b[0;34m\u001b[0m\u001b[0m\n\u001b[0m\u001b[1;32m     71\u001b[0m         \u001b[0mredpanda_kafka_data\u001b[0m \u001b[0;34m=\u001b[0m \u001b[0menrich_dataframe\u001b[0m\u001b[0;34m(\u001b[0m\u001b[0mdf\u001b[0m\u001b[0;34m)\u001b[0m\u001b[0;34m\u001b[0m\u001b[0;34m\u001b[0m\u001b[0m\n\u001b[1;32m     72\u001b[0m         \u001b[0;32mreturn\u001b[0m \u001b[0mredpanda_kafka_data\u001b[0m\u001b[0;34m\u001b[0m\u001b[0;34m\u001b[0m\u001b[0m\n",
      "\u001b[0;32m~/greenflow-ovh/.mamba/lib/python3.10/site-packages/pandas/core/frame.py\u001b[0m in \u001b[0;36m?\u001b[0;34m(self, keys, drop, append, inplace, verify_integrity)\u001b[0m\n\u001b[1;32m   6118\u001b[0m                     \u001b[0;32mif\u001b[0m \u001b[0;32mnot\u001b[0m \u001b[0mfound\u001b[0m\u001b[0;34m:\u001b[0m\u001b[0;34m\u001b[0m\u001b[0;34m\u001b[0m\u001b[0m\n\u001b[1;32m   6119\u001b[0m                         \u001b[0mmissing\u001b[0m\u001b[0;34m.\u001b[0m\u001b[0mappend\u001b[0m\u001b[0;34m(\u001b[0m\u001b[0mcol\u001b[0m\u001b[0;34m)\u001b[0m\u001b[0;34m\u001b[0m\u001b[0;34m\u001b[0m\u001b[0m\n\u001b[1;32m   6120\u001b[0m \u001b[0;34m\u001b[0m\u001b[0m\n\u001b[1;32m   6121\u001b[0m         \u001b[0;32mif\u001b[0m \u001b[0mmissing\u001b[0m\u001b[0;34m:\u001b[0m\u001b[0;34m\u001b[0m\u001b[0;34m\u001b[0m\u001b[0m\n\u001b[0;32m-> 6122\u001b[0;31m             \u001b[0;32mraise\u001b[0m \u001b[0mKeyError\u001b[0m\u001b[0;34m(\u001b[0m\u001b[0;34mf\"None of {missing} are in the columns\"\u001b[0m\u001b[0;34m)\u001b[0m\u001b[0;34m\u001b[0m\u001b[0;34m\u001b[0m\u001b[0m\n\u001b[0m\u001b[1;32m   6123\u001b[0m \u001b[0;34m\u001b[0m\u001b[0m\n\u001b[1;32m   6124\u001b[0m         \u001b[0;32mif\u001b[0m \u001b[0minplace\u001b[0m\u001b[0;34m:\u001b[0m\u001b[0;34m\u001b[0m\u001b[0;34m\u001b[0m\u001b[0m\n\u001b[1;32m   6125\u001b[0m             \u001b[0mframe\u001b[0m \u001b[0;34m=\u001b[0m \u001b[0mself\u001b[0m\u001b[0;34m\u001b[0m\u001b[0;34m\u001b[0m\u001b[0m\n",
      "\u001b[0;31mKeyError\u001b[0m: \"None of ['exp_id'] are in the columns\""
     ]
    }
   ],
   "source": [
    "ovhnvme_1 = an.full_analytical_pipeline(\n",
    "    cutoff_begin=cutoff_begin,\n",
    "    cutoff_end=cutoff_end,\n",
    "    cluster=\"ovhnvme\",\n",
    "    type=\"memImpact\",\n",
    "    partitions=1,\n",
    ")\n",
    "ovhnvme_100 = an.full_analytical_pipeline(\n",
    "    cutoff_begin=cutoff_begin,\n",
    "    cutoff_end=cutoff_end,\n",
    "    cluster=\"ovhnvme\",\n",
    "    type=\"memImpact\",\n",
    "    partitions=120,\n",
    ")\n"
   ]
  },
  {
   "cell_type": "code",
   "execution_count": 4,
   "metadata": {},
   "outputs": [
    {
     "ename": "TypeError",
     "evalue": "'NoneType' object is not subscriptable",
     "output_type": "error",
     "traceback": [
      "\u001b[0;31m---------------------------------------------------------------------------\u001b[0m",
      "\u001b[0;31mTypeError\u001b[0m                                 Traceback (most recent call last)",
      "Cell \u001b[0;32mIn[4], line 1\u001b[0m\n\u001b[0;32m----> 1\u001b[0m ovhnvme_1 \u001b[38;5;241m=\u001b[39m ovhnvme_1[\u001b[43movhnvme_1\u001b[49m\u001b[43m[\u001b[49m\u001b[38;5;124;43m\"\u001b[39;49m\u001b[38;5;124;43mbroker_cpu\u001b[39;49m\u001b[38;5;124;43m\"\u001b[39;49m\u001b[43m]\u001b[49m\u001b[38;5;241m.\u001b[39mastype(\u001b[38;5;28mint\u001b[39m) \u001b[38;5;241m<\u001b[39m\u001b[38;5;241m=\u001b[39m \u001b[38;5;241m8\u001b[39m]\n\u001b[1;32m      2\u001b[0m ovhnvme_1 \u001b[38;5;241m=\u001b[39m ovhnvme_1[ovhnvme_1[\u001b[38;5;124m\"\u001b[39m\u001b[38;5;124mbroker_mem\u001b[39m\u001b[38;5;124m\"\u001b[39m] \u001b[38;5;241m!=\u001b[39m \u001b[38;5;124m\"\u001b[39m\u001b[38;5;124m25Gi\u001b[39m\u001b[38;5;124m\"\u001b[39m]\n\u001b[1;32m      3\u001b[0m ovhnvme_100 \u001b[38;5;241m=\u001b[39m ovhnvme_100[ovhnvme_100[\u001b[38;5;124m\"\u001b[39m\u001b[38;5;124mbroker_cpu\u001b[39m\u001b[38;5;124m\"\u001b[39m]\u001b[38;5;241m.\u001b[39mastype(\u001b[38;5;28mint\u001b[39m) \u001b[38;5;241m<\u001b[39m\u001b[38;5;241m=\u001b[39m \u001b[38;5;241m8\u001b[39m]\n",
      "\u001b[0;31mTypeError\u001b[0m: 'NoneType' object is not subscriptable"
     ]
    }
   ],
   "source": [
    "\n",
    "ovhnvme_1 = ovhnvme_1[ovhnvme_1[\"broker_cpu\"].astype(int) <= 8]\n",
    "ovhnvme_1 = ovhnvme_1[ovhnvme_1[\"broker_mem\"] != \"25Gi\"]\n",
    "ovhnvme_100 = ovhnvme_100[ovhnvme_100[\"broker_cpu\"].astype(int) <= 8]\n",
    "ovhnvme_100 = ovhnvme_100[ovhnvme_100[\"broker_mem\"] != \"25Gi\"]"
   ]
  },
  {
   "cell_type": "code",
   "execution_count": null,
   "metadata": {},
   "outputs": [],
   "source": [
    "plot_throughput_vs_memory(ovhnvme_1)\n",
    "plot_throughput_vs_memory(ovhnvme_100)"
   ]
  },
  {
   "cell_type": "code",
   "execution_count": 5,
   "metadata": {},
   "outputs": [],
   "source": [
    "# plot_throughput_vs_memory(grappe_1)\n",
    "# plot_throughput_vs_memory(grappe_100)"
   ]
  },
  {
   "cell_type": "code",
   "execution_count": null,
   "metadata": {},
   "outputs": [],
   "source": [
    "# plot_throughput_vs_memory(taurus_1)\n",
    "# an.create_qgrid_widget(taurus_100)\n",
    "# plot_throughput_vs_memory(taurus_120)\n",
    "def plot_combined_throughput(df1: pd.DataFrame, df2: pd.DataFrame):\n",
    "    # Process first dataframe\n",
    "    redpanda_df1 = df1[df1[\"exp_name\"] == \"ingest-redpanda\"]\n",
    "    kafka_df1 = df1[df1[\"exp_name\"] == \"ingest-kafka\"]\n",
    "    redpanda_df1['broker_mem_mib'] = redpanda_df1['broker_mem'].apply(convert_to_mib)\n",
    "    kafka_df1['broker_mem_mib'] = kafka_df1['broker_mem'].apply(convert_to_mib)\n",
    "    \n",
    "    # Process second dataframe\n",
    "    redpanda_df2 = df2[df2[\"exp_name\"] == \"ingest-redpanda\"]\n",
    "    kafka_df2 = df2[df2[\"exp_name\"] == \"ingest-kafka\"]\n",
    "    redpanda_df2['broker_mem_mib'] = redpanda_df2['broker_mem'].apply(convert_to_mib)\n",
    "    kafka_df2['broker_mem_mib'] = kafka_df2['broker_mem'].apply(convert_to_mib)\n",
    "    \n",
    "    # Find global min/max for consistent y-axis\n",
    "    min_throughput = min(\n",
    "        redpanda_df1['throughput_MBps'].min(),\n",
    "        kafka_df1['throughput_MBps'].min(),\n",
    "        redpanda_df2['throughput_MBps'].min(),\n",
    "        kafka_df2['throughput_MBps'].min(),\n",
    "        0\n",
    "    )\n",
    "    max_throughput = max(\n",
    "        redpanda_df1['throughput_MBps'].max(),\n",
    "        kafka_df1['throughput_MBps'].max(),\n",
    "        redpanda_df2['throughput_MBps'].max(),\n",
    "        kafka_df2['throughput_MBps'].max()\n",
    "    )\n",
    "\n",
    "    # Create figure with 4 subplots\n",
    "    fig, ((ax1, ax2), (ax3, ax4)) = plt.subplots(2, 2, figsize=(15, 12))\n",
    "    \n",
    "    # First row - DataFrame 1\n",
    "    sns.barplot(data=redpanda_df1, x='broker_cpu', y='throughput_MBps', \n",
    "                hue='broker_mem_mib', palette='viridis', ax=ax1)\n",
    "    ax1.set_title('Redpanda (1 Partition)')\n",
    "    ax1.set_xlabel('Cores')\n",
    "    ax1.set_ylabel('Throughput (MBps)')\n",
    "    ax1.legend(title='Memory')\n",
    "    ax1.set_ylim(min_throughput - 0.05 * min_throughput, max_throughput + 0.05 * max_throughput)\n",
    "    ax1.grid(True)\n",
    "\n",
    "    sns.barplot(data=kafka_df1, x='broker_cpu', y='throughput_MBps', \n",
    "                hue='broker_mem_mib', palette='viridis', ax=ax2)\n",
    "    ax2.set_title('Kafka (1 Partition)')\n",
    "    ax2.set_xlabel('Cores')\n",
    "    ax2.set_ylabel('Throughput (MBps)')\n",
    "    ax2.legend(title='Memory')\n",
    "    ax2.set_ylim(min_throughput - 0.05 * min_throughput, max_throughput + 0.05 * max_throughput)\n",
    "    ax2.grid(True)\n",
    "\n",
    "    # Second row - DataFrame 2\n",
    "    sns.barplot(data=redpanda_df2, x='broker_cpu', y='throughput_MBps', \n",
    "                hue='broker_mem_mib', palette='viridis', ax=ax3)\n",
    "    ax3.set_title('Redpanda (100 Partitions)')\n",
    "    ax3.set_xlabel('Cores')\n",
    "    ax3.set_ylabel('Throughput (MBps)')\n",
    "    ax3.legend(title='Memory')\n",
    "    ax3.set_ylim(min_throughput - 0.05 * min_throughput, max_throughput + 0.05 * max_throughput)\n",
    "    ax3.grid(True)\n",
    "\n",
    "    sns.barplot(data=kafka_df2, x='broker_cpu', y='throughput_MBps', \n",
    "                hue='broker_mem_mib', palette='viridis', ax=ax4)\n",
    "    ax4.set_title('Kafka (100 Partitions)')\n",
    "    ax4.set_xlabel('Cores')\n",
    "    ax4.set_ylabel('Throughput (MBps)')\n",
    "    ax4.legend(title='Memory')\n",
    "    ax4.set_ylim(min_throughput - 0.05 * min_throughput, max_throughput + 0.05 * max_throughput)\n",
    "    ax4.grid(True)\n",
    "\n",
    "    plt.tight_layout()\n",
    "    plt.show()\n",
    "\n",
    "plot_combined_throughput(ovhnvme_1, ovhnvme_100)"
   ]
  }
 ],
 "metadata": {
  "kernelspec": {
   "display_name": "Python 3",
   "language": "python",
   "name": "python3"
  },
  "language_info": {
   "codemirror_mode": {
    "name": "ipython",
    "version": 3
   },
   "file_extension": ".py",
   "mimetype": "text/x-python",
   "name": "python",
   "nbconvert_exporter": "python",
   "pygments_lexer": "ipython3",
   "version": "3.10.16"
  }
 },
 "nbformat": 4,
 "nbformat_minor": 4
}
