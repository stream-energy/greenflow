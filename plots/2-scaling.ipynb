{
 "cells": [
  {
   "cell_type": "code",
   "execution_count": 1,
   "metadata": {},
   "outputs": [
    {
     "name": "stdout",
     "output_type": "stream",
     "text": [
      "2025-02-12T14:10:59.432181+01:00\n"
     ]
    },
    {
     "name": "stderr",
     "output_type": "stream",
     "text": [
      "[WARNING]: failed to patch stdout/stderr for fork-safety: 'OutStream' object\n",
      "has no attribute 'buffer'\n",
      "[WARNING]: failed to reconfigure stdout/stderr with the replace error handler:\n",
      "'OutStream' object has no attribute 'reconfigure'\n"
     ]
    },
    {
     "data": {
      "text/plain": [
       "<greenflow.g._g at 0x7f3bb3b06800>"
      ]
     },
     "execution_count": 1,
     "metadata": {},
     "output_type": "execute_result"
    }
   ],
   "source": [
    "import sys\n",
    "from os import getenv\n",
    "sys.path.append(getenv(\"DEVENV_ROOT\"))\n",
    "\n",
    "import pandas as pd\n",
    "pd.options.mode.chained_assignment = None  # default='warn'\n",
    "import matplotlib.pyplot as plt\n",
    "import seaborn as sns\n",
    "import pendulum\n",
    "import greenflow.analysis as an\n",
    "from entrypoint import load_gin\n",
    "from greenflow.utils import convert_to_mib\n",
    "import qgridnext as qgrid\n",
    "\n",
    "cutoff_begin = \"2025-02-11T06:15:35.626996+01:00\"\n",
    "cutoff_end = pendulum.now().to_iso8601_string()\n",
    "cutoff_end = \"2025-02-12T14:10:59.432181+01:00\"\n",
    "print(cutoff_end)\n",
    "\n",
    "load_gin(exp_name=\"ingest-kafka\", test=False)"
   ]
  },
  {
   "cell_type": "code",
   "execution_count": 2,
   "metadata": {},
   "outputs": [],
   "source": [
    "def plot_throughput_vs_replicas(enriched_data: pd.DataFrame):\n",
    "    redpanda_df = enriched_data[enriched_data[\"exp_name\"] == \"ingest-redpanda\"]\n",
    "    kafka_df = enriched_data[enriched_data[\"exp_name\"] == \"ingest-kafka\"]\n",
    "    sns.barplot(data=enriched_data, x='broker_replicas', y='throughput_MBps', hue='System')\n",
    "    # plt.title('Throughput vs Brokers (Kafka - HDD)')\n",
    "    plt.xlabel('Brokers')\n",
    "    plt.ylabel('Data Throughput (MBps)')\n",
    "    plt.grid(True)\n",
    "    sns.despine()\n",
    "    plt.show()\n",
    "    # sns.boxplot(data=kafka_df, x='broker_replicas', y='throughput_MBps')\n"
   ]
  },
  {
   "cell_type": "code",
   "execution_count": 5,
   "metadata": {},
   "outputs": [
    {
     "data": {
      "application/vnd.jupyter.widget-view+json": {
       "model_id": "650d91dee06f4ec0b138413217ea8771",
       "version_major": 2,
       "version_minor": 0
      },
      "text/plain": [
       "QgridWidget(grid_options={'fullWidthRows': True, 'syncColumnCellResize': True, 'forceFitColumns': True, 'defau…"
      ]
     },
     "metadata": {},
     "output_type": "display_data"
    }
   ],
   "source": [
    "df = an.full_analytical_pipeline(\n",
    "    cutoff_begin=cutoff_begin,\n",
    "    cutoff_end=cutoff_end,\n",
    "    # exp_name=\"ingest-kafka\",\n",
    "    cluster=\"grappe\",\n",
    "    type=\"scalingBehaviour\",\n",
    ")\n",
    "system_mapping = {\n",
    "    'ingest-kafka': 'Kafka',\n",
    "    'ingest-redpanda': 'Redpanda'\n",
    "}\n",
    "cluster_mapping = {\n",
    "    'ovhnvme': 'ADVANCE',\n",
    "    'taurus': 'Taurus',\n",
    "    'grappe': 'Grappe'\n",
    "}\n",
    "# ovhnvme = ovhnvme.copy()\n",
    "df['System'] = df['exp_name'].map(system_mapping)\n",
    "df['Cluster'] = df['cluster'].map(cluster_mapping)\n",
    "# taurus_kafka = an.full_analytical_pipeline(\n",
    "#     cutoff_begin=cutoff_begin, cutoff_end=cutoff_end, exp_name=\"ingest-kafka\", cluster=\"taurus\", type=\"scalingBehaviour\", partitions=120,\n",
    "# )\n",
    "\n",
    "an.create_qgrid_widget(df)"
   ]
  },
  {
   "cell_type": "code",
   "execution_count": 4,
   "metadata": {},
   "outputs": [
    {
     "data": {
      "image/png": "[encoded data removed]",
      "text/plain": [
       "<Figure size 640x480 with 1 Axes>"
      ]
     },
     "metadata": {},
     "output_type": "display_data"
    }
   ],
   "source": [
    "plot_throughput_vs_replicas(df)"
   ]
  }
 ],
 "metadata": {
  "kernelspec": {
   "display_name": "Python 3",
   "language": "python",
   "name": "python3"
  },
  "language_info": {
   "codemirror_mode": {
    "name": "ipython",
    "version": 3
   },
   "file_extension": ".py",
   "mimetype": "text/x-python",
   "name": "python",
   "nbconvert_exporter": "python",
   "pygments_lexer": "ipython3",
   "version": "3.10.14"
  }
 },
 "nbformat": 4,
 "nbformat_minor": 4
}
