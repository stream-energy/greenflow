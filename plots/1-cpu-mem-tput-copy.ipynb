{
 "cells": [
  {
   "cell_type": "code",
   "execution_count": 1,
   "metadata": {},
   "outputs": [
    {
     "name": "stderr",
     "output_type": "stream",
     "text": [
      "[WARNING]: failed to patch stdout/stderr for fork-safety: 'OutStream' object\n",
      "has no attribute 'buffer'\n",
      "[WARNING]: failed to reconfigure stdout/stderr with the replace error handler:\n",
      "'OutStream' object has no attribute 'reconfigure'\n"
     ]
    }
   ],
   "source": [
    "# Add DEVENV_PATH to the path so that we can import the modules\n",
    "import sys\n",
    "from os import getenv\n",
    "sys.path.append(getenv(\"DEVENV_ROOT\"))\n",
    "\n",
    "import pandas as pd\n",
    "pd.options.mode.chained_assignment = None  # default='warn'\n",
    "import matplotlib.pyplot as plt\n",
    "import seaborn as sns\n",
    "import greenflow.analysis as an\n",
    "from entrypoint import load_gin\n",
    "from greenflow.utils import convert_to_mib\n",
    "\n",
    "cutoff_begin = \"2024-12-16T03:15:35.626996+01:00\"\n",
    "cutoff_end = \"2025-01-01T03:15:35.626996+01:00\"\n",
    "\n",
    "load_gin(exp_name=\"ingest-kafka\", test=False)\n"
   ]
  },
  {
   "cell_type": "code",
   "execution_count": 2,
   "metadata": {},
   "outputs": [],
   "source": [
    "def plot_throughput_vs_memory(enriched_data: pd.DataFrame):\n",
    "    # Restack this to show memory impact \n",
    "    redpanda_df = enriched_data[enriched_data[\"exp_name\"] == \"ingest-redpanda\"]\n",
    "    kafka_df = enriched_data[enriched_data[\"exp_name\"] == \"ingest-kafka\"]\n",
    "\n",
    "    # Add a new column for memory in MiB\n",
    "    redpanda_df['broker_mem_mib'] = redpanda_df['broker_mem'].apply(convert_to_mib)\n",
    "    min_throughput = min(redpanda_df['throughput_MBps'].min(), kafka_df['throughput_MBps'].min())\n",
    "    min_throughput = 0\n",
    "    max_throughput = max(redpanda_df['throughput_MBps'].max(), kafka_df['throughput_MBps'].max())\n",
    "\n",
    "    kafka_df['broker_mem_mib'] = kafka_df['broker_mem'].apply(convert_to_mib)\n",
    "    plt.figure(figsize=(15, 6))\n",
    "    plt.subplot(1, 2, 1)\n",
    "    sns.barplot(data=redpanda_df, x='broker_cpu', y='throughput_MBps', hue='broker_mem_mib', palette='viridis')\n",
    "    # sns.pointplot(data=redpanda_df, x='broker_mem_mib', y='throughput_MBps', hue='broker_cpu')\n",
    "\n",
    "    plt.title('Redpanda')\n",
    "    plt.xlabel('Cores')\n",
    "    plt.ylabel('Throughput (MBps)')\n",
    "    plt.legend(title='Memory')\n",
    "    plt.ylim((min_throughput - 0.05 * min_throughput, max_throughput + 0.05 * max_throughput))\n",
    "    plt.grid(True)\n",
    "\n",
    "    plt.subplot(1, 2, 2)\n",
    "    # sns.scatterplot(data=kafka_df, x='broker_mem_mib', y='throughput_MBps', hue='broker_cpu', palette='viridis', alpha=0.7)\n",
    "    sns.barplot(data=kafka_df, x='broker_cpu', y='throughput_MBps', hue='broker_mem_mib', palette='viridis')\n",
    "    plt.title('Kafka')\n",
    "    plt.xlabel('Cores')\n",
    "    plt.ylabel('Throughput (MBps)')\n",
    "    plt.legend(title='Memory')\n",
    "    plt.ylim((min_throughput - 0.05 * min_throughput, max_throughput + 0.05 * max_throughput))\n",
    "    plt.grid(True)\n",
    "    plt.show()"
   ]
  },
  {
   "cell_type": "code",
   "execution_count": 3,
   "metadata": {},
   "outputs": [],
   "source": [
    "# ovhnvme_1 = an.full_analytical_pipeline(\n",
    "#     cutoff_begin=cutoff_begin,\n",
    "#     cutoff_end=cutoff_end,\n",
    "#     cluster=\"ovhnvme\",\n",
    "#     type=\"memImpact\",\n",
    "#     partitions=1,\n",
    "# )\n",
    "# ovhnvme_100 = an.full_analytical_pipeline(\n",
    "#     cutoff_begin=cutoff_begin,\n",
    "#     cutoff_end=cutoff_end,\n",
    "#     cluster=\"ovhnvme\",\n",
    "#     type=\"memImpact\",\n",
    "#     partitions=100,\n",
    "# )\n",
    "# grappe_1 = an.full_analytical_pipeline(\n",
    "#     cutoff_begin=cutoff_begin,\n",
    "#     cutoff_end=cutoff_end,\n",
    "#     cluster=\"grappe\",\n",
    "#     type=\"memImpact\",\n",
    "#     partitions=1,\n",
    "# )\n",
    "# grappe_100 = an.full_analytical_pipeline(\n",
    "#     cutoff_begin=cutoff_begin,\n",
    "#     cutoff_end=cutoff_end,\n",
    "#     cluster=\"grappe\",\n",
    "#     type=\"memImpact\",\n",
    "#     partitions=100,\n",
    "# )\n",
    "taurus_1 = an.full_analytical_pipeline(\n",
    "    cutoff_begin=cutoff_begin,\n",
    "    cutoff_end=cutoff_end,\n",
    "    cluster=\"taurus\",\n",
    "    type=\"memImpact\",\n",
    "    partitions=1,\n",
    ")\n",
    "taurus_100 = an.full_analytical_pipeline(\n",
    "    cutoff_begin=cutoff_begin,\n",
    "    cutoff_end=cutoff_end,\n",
    "    cluster=\"taurus\",\n",
    "    type=\"memImpact\",\n",
    "    partitions=100,\n",
    ")"
   ]
  },
  {
   "cell_type": "code",
   "execution_count": 4,
   "metadata": {},
   "outputs": [],
   "source": [
    "# plot_throughput_vs_memory(ovhnvme_1)\n",
    "# plot_throughput_vs_memory(ovhnvme_100)"
   ]
  },
  {
   "cell_type": "code",
   "execution_count": 5,
   "metadata": {},
   "outputs": [],
   "source": [
    "# plot_throughput_vs_memory(grappe_1)\n",
    "# plot_throughput_vs_memory(grappe_100)"
   ]
  },
  {
   "cell_type": "code",
   "execution_count": 6,
   "metadata": {},
   "outputs": [
    {
     "data": {
      "application/vnd.jupyter.widget-view+json": {
       "model_id": "67fe3b8070da440c98042130ec37bc8b",
       "version_major": 2,
       "version_minor": 0
      },
      "text/plain": [
       "QgridWidget(grid_options={'fullWidthRows': True, 'syncColumnCellResize': True, 'forceFitColumns': True, 'defau…"
      ]
     },
     "metadata": {},
     "output_type": "display_data"
    }
   ],
   "source": [
    "# plot_throughput_vs_memory(taurus_1)\n",
    "# plot_throughput_vs_memory(taurus_100)\n",
    "an.create_qgrid_widget(taurus_1)"
   ]
  },
  {
   "cell_type": "code",
   "execution_count": null,
   "metadata": {},
   "outputs": [],
   "source": []
  }
 ],
 "metadata": {
  "kernelspec": {
   "display_name": "Python 3",
   "language": "python",
   "name": "python3"
  },
  "language_info": {
   "codemirror_mode": {
    "name": "ipython",
    "version": 3
   },
   "file_extension": ".py",
   "mimetype": "text/x-python",
   "name": "python",
   "nbconvert_exporter": "python",
   "pygments_lexer": "ipython3",
   "version": "3.10.14"
  }
 },
 "nbformat": 4,
 "nbformat_minor": 4
}
